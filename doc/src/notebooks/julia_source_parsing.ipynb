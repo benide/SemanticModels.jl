{
 "cells": [
  {
   "cell_type": "markdown",
   "metadata": {},
   "source": [
    "# Scraping Julia Source Code\n",
    "In order to train an autoencoder to produce low-dimensional vector representations of Julia source code, we first extract Julia source code expressions and compile these into a labeled training dataset by traversing the base Julia language repo directory structure.\n",
    "\n",
    "This notebook illustrates the workflow within the src/validation/julia_code_scraping.jl file. "
   ]
  },
  {
   "cell_type": "code",
   "execution_count": null,
   "metadata": {},
   "outputs": [],
   "source": [
    "using DelimitedFiles\n",
    "include(\"../../../src/parse.jl\")\n"
   ]
  },
  {
   "cell_type": "markdown",
   "metadata": {},
   "source": [
    "We select only those expressions that are 500 characters or less. This only excludes 0.5% of the available Julia code snippets, and allows our RNN autoencoder model to remain computationally tractable. The longest expressions are on the order of 16,000 characters long, and comprise mostly lists of available characters. \n"
   ]
  },
  {
   "cell_type": "code",
   "execution_count": null,
   "metadata": {},
   "outputs": [],
   "source": [
    "maxlen = 500;\n",
    "dir = \"~/Documents/git/julia\";\n",
    "file_type = \"jl\";\n"
   ]
  },
  {
   "cell_type": "markdown",
   "metadata": {},
   "source": [
    "We define two utility functions to extract and save our Julia expressions as labeled code snippets. The first, `read_code()`, traverses the Julia repo directory structure and parses each Julia source code file into Julia `Expr` objects. \n",
    "\n",
    "This function then recurively calls our second function, `get_expr()`, to parse the `Expr` objects into strings for storage and analysis. If a given `Expr` object can be further decomposed then `get_expr()` recurses and returns all the bottom-level expression parses compiled into an array named `all_funcs`."
   ]
  },
  {
   "cell_type": "code",
   "execution_count": null,
   "metadata": {},
   "outputs": [],
   "source": [
    "function read_code(dir, maxlen=500, file_type=\"jl\", verbose=false)\n",
    "    comments = r\"\\#.*\\n\"\n",
    "    docstring = r\"\\\"{3}.*?\\\"{3}\"s\n",
    "\n",
    "    all_funcs = []\n",
    "    sources = []\n",
    "\n",
    "    for (root, dirs, files) in walkdir(dir)\n",
    "        for file in files\n",
    "            if endswith(file, \".\"*file_type)\n",
    "              s = Parsers.parsefile(joinpath(root, file))\n",
    "              if !isa(s, Nothing)\n",
    "                all_funcs = vcat(all_funcs, get_expr(s, joinpath(root, file), verbose));\n",
    "              end\n",
    "            end\n",
    "        end\n",
    "    end\n",
    "\n",
    "    filter!(x->x!=\"\",all_funcs)\n",
    "    filter!(x -> length(x)<=maxlen, all_funcs)\n",
    "    all_funcs = unique(all_funcs)\n",
    "\n",
    "    return all_funcs\n",
    "end\n",
    "\n",
    "\n",
    "function get_expr(exp_tree, path, verbose=false)\n",
    "    leaves = []\n",
    "\n",
    "    for arg in exp_tree.args\n",
    "        if verbose\n",
    "            println(arg)\n",
    "        end\n",
    "        if typeof(arg) == Expr\n",
    "            if arg.head != :block\n",
    "                if verbose\n",
    "                    println(\"Pushed!\")\n",
    "                end\n",
    "                push!(leaves, (string(arg), path))\n",
    "            else\n",
    "                if verbose\n",
    "                    println(\"Recursing!\")\n",
    "                end\n",
    "                leaves = vcat(leaves, get_expr(arg, path, verbose))\n",
    "            end\n",
    "        end\n",
    "    end\n",
    "\n",
    "    return leaves\n",
    "end\n"
   ]
  },
  {
   "cell_type": "markdown",
   "metadata": {},
   "source": [
    "Finally, `all_funcs` is saved to disk for eventual input to our autoencoding model. "
   ]
  },
  {
   "cell_type": "code",
   "execution_count": null,
   "metadata": {},
   "outputs": [],
   "source": [
    "all_funcs = read_code(dir, maxlen, file_type);\n",
    "writedlm(\"all_funcs.csv\", all_funcs, quotes=true);\n"
   ]
  },
  {
   "cell_type": "code",
   "execution_count": null,
   "metadata": {},
   "outputs": [],
   "source": [
    "println(size(all_funcs))\n",
    "println()\n",
    "println.(all_funcs[1:5]);"
   ]
  },
  {
   "cell_type": "code",
   "execution_count": null,
   "metadata": {},
   "outputs": [],
   "source": []
  }
 ],
 "metadata": {
  "kernelspec": {
   "display_name": "Julia 1.0.3",
   "language": "julia",
   "name": "julia-1.0"
  },
  "language_info": {
   "file_extension": ".jl",
   "mimetype": "application/julia",
   "name": "julia",
   "version": "1.0.3"
  }
 },
 "nbformat": 4,
 "nbformat_minor": 2
}
